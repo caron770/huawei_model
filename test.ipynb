{
 "cells": [
  {
   "cell_type": "code",
   "execution_count": 1,
   "id": "35ed1db7",
   "metadata": {},
   "outputs": [
    {
     "name": "stdout",
     "output_type": "stream",
     "text": [
      "hello world\n"
     ]
    }
   ],
   "source": [
    "print(\"hello world\")"
   ]
  },
  {
   "cell_type": "code",
   "execution_count": 2,
   "id": "546c5369",
   "metadata": {},
   "outputs": [
    {
     "name": "stdout",
     "output_type": "stream",
     "text": [
      "this is a new line of new- branch\n"
     ]
    }
   ],
   "source": [
    "print(\"this is a new line of new- branch\")"
   ]
  },
  {
   "cell_type": "code",
   "execution_count": null,
   "id": "0727d044",
   "metadata": {},
   "outputs": [],
   "source": [
    "print(\"新在main添加内容，然后提交到远程仓库里面\")"
   ]
  },
  {
   "cell_type": "code",
   "execution_count": 3,
   "id": "aebec0b8",
   "metadata": {},
   "outputs": [
    {
     "name": "stdout",
     "output_type": "stream",
     "text": [
      "hello world2 in new-branch\n"
     ]
    }
   ],
   "source": [
    "print(\"hello world2 in new-branch\")"
   ]
  }
 ],
 "metadata": {
  "kernelspec": {
   "display_name": "vision_env",
   "language": "python",
   "name": "python3"
  },
  "language_info": {
   "codemirror_mode": {
    "name": "ipython",
    "version": 3
   },
   "file_extension": ".py",
   "mimetype": "text/x-python",
   "name": "python",
   "nbconvert_exporter": "python",
   "pygments_lexer": "ipython3",
   "version": "3.11.11"
  }
 },
 "nbformat": 4,
 "nbformat_minor": 5
}
